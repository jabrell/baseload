{
 "cells": [
  {
   "cell_type": "code",
   "execution_count": 1,
   "metadata": {},
   "outputs": [
    {
     "name": "stderr",
     "output_type": "stream",
     "text": [
      "2024-03-21 11:25:56.479 WARNING streamlit.runtime.caching.cache_data_api: No runtime found, using MemoryCacheStorageManager\n",
      "2024-03-21 11:25:56.482 WARNING streamlit.runtime.caching.cache_data_api: No runtime found, using MemoryCacheStorageManager\n",
      "2024-03-21 11:25:56.484 WARNING streamlit.runtime.caching.cache_data_api: No runtime found, using MemoryCacheStorageManager\n",
      "2024-03-21 11:25:56.486 WARNING streamlit.runtime.caching.cache_data_api: No runtime found, using MemoryCacheStorageManager\n",
      "2024-03-21 11:25:56.488 WARNING streamlit.runtime.caching.cache_data_api: No runtime found, using MemoryCacheStorageManager\n",
      "2024-03-21 11:25:56.490 WARNING streamlit.runtime.caching.cache_data_api: No runtime found, using MemoryCacheStorageManager\n",
      "2024-03-21 11:25:56.492 WARNING streamlit.runtime.caching.cache_data_api: No runtime found, using MemoryCacheStorageManager\n",
      "2024-03-21 11:25:56.494 WARNING streamlit.runtime.caching.cache_data_api: No runtime found, using MemoryCacheStorageManager\n",
      "2024-03-21 11:25:56.496 WARNING streamlit.runtime.caching.cache_data_api: No runtime found, using MemoryCacheStorageManager\n"
     ]
    }
   ],
   "source": [
    "import pandas as pd \n",
    "import plotly.graph_objects as go\n",
    "import plotly.express as px\n",
    "import sys, os\n",
    "fn_data = \"../data/renewables_with_load.parquet\"\n",
    "fn_cap = \"../data/renewables_capacity.parquet\"\n",
    "from data import get_generation, normalize_generation, get_profiles\n",
    "from graphs import plot_profile, plot_daily_generation"
   ]
  },
  {
   "cell_type": "code",
   "execution_count": 2,
   "metadata": {},
   "outputs": [
    {
     "name": "stderr",
     "output_type": "stream",
     "text": [
      "2024-03-21 11:25:56.919 \n",
      "  \u001b[33m\u001b[1mWarning:\u001b[0m to view this Streamlit app on a browser, run it with the following\n",
      "  command:\n",
      "\n",
      "    streamlit run e:\\GIT\\baseload\\.venv\\Lib\\site-packages\\ipykernel_launcher.py [ARGUMENTS]\n",
      "2024-03-21 11:25:56.920 No runtime found, using MemoryCacheStorageManager\n",
      "2024-03-21 11:25:57.213 No runtime found, using MemoryCacheStorageManager\n",
      "2024-03-21 11:25:57.225 No runtime found, using MemoryCacheStorageManager\n"
     ]
    },
    {
     "name": "stdout",
     "output_type": "stream",
     "text": [
      "!!!!!!!!!!!!!!\n",
      "\n",
      "\n",
      "       solar  windOffshore  windOnshore\n",
      "0  63065.55       8128.82     57589.83\n"
     ]
    }
   ],
   "source": [
    "df_gen, df_annual = get_generation(fn_data, fn_cap, country=\"DE\", year=2023)\n",
    "df_norm = normalize_generation(df_gen, shares={\"Wind\": 0.4, \"Solar\": 0.4, \"Baseload\": 0.2}, total_demand=0)\n",
    "profiles = get_profiles(df_norm)"
   ]
  },
  {
   "cell_type": "code",
   "execution_count": null,
   "metadata": {},
   "outputs": [],
   "source": [
    "df = "
   ]
  },
  {
   "cell_type": "code",
   "execution_count": 3,
   "metadata": {},
   "outputs": [
    {
     "data": {
      "text/plain": [
       "{'Hourly: Year':               Wind         Solar      Baseload        Demand\n",
       " Hour                                                        \n",
       " 0     21704.616694      0.000000  10427.226485  41775.432164\n",
       " 1     21450.112893      0.000000  10427.226485  41421.215432\n",
       " 2     21226.212451      1.978346  10427.226485  41852.840212\n",
       " 3     21157.611673    226.388779  10427.226485  43542.830685\n",
       " 4     21229.976350   2125.928220  10427.226485  47406.574452\n",
       " 5     20873.557543   7863.153114  10427.226485  51757.933479\n",
       " 6     20114.643765  18697.663892  10427.226485  55245.846712\n",
       " 7     19551.297495  33220.652274  10427.226485  57249.540377\n",
       " 8     19290.414454  48062.464694  10427.226485  58427.058260\n",
       " 9     19429.819882  59257.010803  10427.226485  59359.867616\n",
       " 10    19653.715602  65182.100678  10427.226485  59403.832473\n",
       " 11    19781.654572  65906.136843  10427.226485  58520.157945\n",
       " 12    19911.313855  61770.746336  10427.226485  57231.267959\n",
       " 13    20118.060743  53030.840092  10427.226485  56191.563021\n",
       " 14    20363.845011  40252.480321  10427.226485  55574.874212\n",
       " 15    20638.225924  25776.117841  10427.226485  55999.163747\n",
       " 16    20886.215323  13072.500822  10427.226485  57149.011705\n",
       " 17    21081.589716   4869.001488  10427.226485  57373.606514\n",
       " 18    21383.452065   1133.637111  10427.226485  55884.001082\n",
       " 19    21962.450439     57.945354  10427.226485  53368.338171\n",
       " 20    22269.401474      0.123775  10427.226485  50681.163151\n",
       " 21    22231.980955      0.000476  10427.226485  47774.432377\n",
       " 22    22171.294970      0.000000  10427.226485  45039.075267\n",
       " 23    22025.407413      0.000000  10427.226485  43037.551137,\n",
       " 'Monthly':                Wind         Solar      Baseload        Demand\n",
       " Month                                                        \n",
       " 1      29900.119923   3799.970674  10427.226485  56623.711663\n",
       " 2      22860.665882  11583.127571  10427.226485  56743.049048\n",
       " 3      25048.622580  16689.918324  10427.226485  54991.606603\n",
       " 4      17926.835105  24826.941925  10427.226485  50180.975340\n",
       " 5      14394.587866  34871.743106  10427.226485  48831.101052\n",
       " 6      10787.468557  40130.455585  10427.226485  49268.954604\n",
       " 7      17585.107886  33857.547857  10427.226485  48744.587154\n",
       " 8      11983.757378  28867.689140  10427.226485  48798.035215\n",
       " 9      11841.393339  30332.903614  10427.226485  49713.483764\n",
       " 10     24825.488632  15008.655770  10427.226485  52109.194069\n",
       " 11     29843.478749   6442.456360  10427.226485  56082.127236\n",
       " 12     33030.103367   3535.605363  10427.226485  53886.174976,\n",
       " 'Hourly: Spring':               Wind         Solar      Baseload        Demand\n",
       " Hour                                                        \n",
       " 0     20734.199257      0.000000  10427.226485  41529.352364\n",
       " 1     20528.577262      0.000000  10427.226485  41389.152663\n",
       " 2     20226.882339      0.826741  10427.226485  42103.477880\n",
       " 3     20149.189649    188.561042  10427.226485  43970.428560\n",
       " 4     20089.164379   2501.631279  10427.226485  47815.335598\n",
       " 5     19065.628311  10188.049287  10427.226485  51773.871576\n",
       " 6     17553.738941  24425.256380  10427.226485  54892.908859\n",
       " 7     16466.804155  42475.917753  10427.226485  56641.923342\n",
       " 8     16298.820789  58988.854589  10427.226485  57662.753641\n",
       " 9     16736.691161  70333.022389  10427.226485  58417.372962\n",
       " 10    17015.953913  76290.792240  10427.226485  58191.646467\n",
       " 11    17186.100813  77401.825279  10427.226485  57066.980571\n",
       " 12    17461.364139  73723.591740  10427.226485  55655.084103\n",
       " 13    18031.691216  65228.603357  10427.226485  54591.320272\n",
       " 14    18704.334566  51657.648454  10427.226485  53843.993016\n",
       " 15    19193.911739  34413.845556  10427.226485  54071.884185\n",
       " 16    19157.138286  17088.238971  10427.226485  54962.467391\n",
       " 17    19066.198362   5444.119466  10427.226485  55724.654239\n",
       " 18    19661.849173    903.596616  10427.226485  54953.183234\n",
       " 19    20706.730376     20.335817  10427.226485  52828.292962\n",
       " 20    21226.747573      0.003595  10427.226485  50184.557364\n",
       " 21    21380.437735      0.000000  10427.226485  47137.841685\n",
       " 22    21396.488505      0.000000  10427.226485  44414.438804\n",
       " 23    21233.855710      0.000000  10427.226485  42507.477609,\n",
       " 'Hourly: Summer':               Wind         Solar      Baseload        Demand\n",
       " Hour                                                        \n",
       " 0     14184.614200      0.000000  10427.226485  38706.499511\n",
       " 1     14013.776882      0.000000  10427.226485  38585.255136\n",
       " 2     13849.673098      6.995709  10427.226485  39038.347337\n",
       " 3     13793.375260    709.579658  10427.226485  41017.210707\n",
       " 4     13627.638639   5898.853024  10427.226485  45917.907337\n",
       " 5     12421.296909  19001.298108  10427.226485  50057.046386\n",
       " 6     11123.005604  38476.956763  10427.226485  53197.983832\n",
       " 7     11008.428723  59623.405721  10427.226485  54717.489266\n",
       " 8     11627.021014  77631.872024  10427.226485  55771.370054\n",
       " 9     12502.898908  89780.501208  10427.226485  56755.391902\n",
       " 10    13163.939201  95501.577312  10427.226485  56351.761630\n",
       " 11    13552.817205  95600.318900  10427.226485  55264.983859\n",
       " 12    13913.857935  91107.742987  10427.226485  54006.612500\n",
       " 13    14396.928107  82085.883913  10427.226485  53211.414592\n",
       " 14    14768.388704  68157.681874  10427.226485  52541.209783\n",
       " 15    14982.401564  50157.746310  10427.226485  52773.694022\n",
       " 16    14694.279005  30287.567790  10427.226485  52962.783451\n",
       " 17    13758.421407  13489.700250  10427.226485  52392.064728\n",
       " 18    12871.447603   3592.972441  10427.226485  50696.970136\n",
       " 19    13085.523646    209.556077  10427.226485  49042.065408\n",
       " 20    13559.028940      0.487471  10427.226485  46879.175489\n",
       " 21    14089.953438      0.001887  10427.226485  43665.685598\n",
       " 22    14251.700228      0.000000  10427.226485  41213.654565\n",
       " 23    14305.378533      0.000000  10427.226485  39639.491875,\n",
       " 'Hourly: Autumn':               Wind         Solar      Baseload        Demand\n",
       " Hour                                                        \n",
       " 0     23122.470872      0.000000  10427.226485  41508.635440\n",
       " 1     22801.345881      0.000000  10427.226485  41178.401044\n",
       " 2     22686.014978      0.000000  10427.226485  41690.646621\n",
       " 3     22713.220828      0.000000  10427.226485  43701.093132\n",
       " 4     23122.806348     34.277412  10427.226485  48275.635714\n",
       " 5     23611.544726   2028.640876  10427.226485  52916.627912\n",
       " 6     23275.433145  11200.806012  10427.226485  56305.560330\n",
       " 7     22157.584654  26926.519552  10427.226485  58228.543736\n",
       " 8     21032.449388  43582.155126  10427.226485  59290.812473\n",
       " 9     20562.384724  56070.533164  10427.226485  60116.117940\n",
       " 10    20562.929188  62101.298356  10427.226485  60010.528159\n",
       " 11    20545.070653  61861.184108  10427.226485  58958.917170\n",
       " 12    20497.234884  55815.154164  10427.226485  57595.762253\n",
       " 13    20447.745477  44827.408037  10427.226485  56629.996099\n",
       " 14    20252.515317  29945.894333  10427.226485  56207.878379\n",
       " 15    20330.183034  14653.817184  10427.226485  57038.886703\n",
       " 16    20949.748412   4242.053480  10427.226485  58589.516951\n",
       " 17    22060.355101    387.245905  10427.226485  58711.176044\n",
       " 18    23175.191898      1.024089  10427.226485  56806.934808\n",
       " 19    23974.289192      0.000000  10427.226485  53685.518681\n",
       " 20    24120.468168      0.000000  10427.226485  50544.223407\n",
       " 21    23812.787270      0.000000  10427.226485  47468.035027\n",
       " 22    23618.545688      0.000000  10427.226485  44788.447720\n",
       " 23    23350.882865      0.000000  10427.226485  42851.887857,\n",
       " 'Hourly: Winter':               Wind         Solar      Baseload        Demand\n",
       " Hour                                                        \n",
       " 0     28950.104509      0.000000  10427.226485  45433.872694\n",
       " 1     28627.468327      0.000000  10427.226485  44598.484667\n",
       " 2     28312.189792      0.027010  10427.226485  44637.665722\n",
       " 3     28143.435487      0.032889  10427.226485  45527.454583\n",
       " 4     28253.556804      0.000000  10427.226485  47631.760833\n",
       " 5     28593.342364      0.273405  10427.226485  52308.756972\n",
       " 6     28728.000663    204.115160  10427.226485  56628.510361\n",
       " 7     28801.799526   3134.300458  10427.226485  59469.097750\n",
       " 8     28420.788173  11196.851649  10427.226485  61049.699444\n",
       " 9     28118.499564  19954.958380  10427.226485  62221.006444\n",
       " 10    28064.771911  25948.339983  10427.226485  63149.413833\n",
       " 11    28030.244796  27890.832550  10427.226485  62889.505111\n",
       " 12    27954.008352  25585.117655  10427.226485  61770.248361\n",
       " 13    27765.715055  19155.885262  10427.226485  60430.436111\n",
       " 14    27892.599935  10489.650472  10427.226485  59805.261083\n",
       " 15    28207.610917   3268.879963  10427.226485  60215.143139\n",
       " 16    28919.012184    298.463460  10427.226485  62206.890583\n",
       " 17    29638.032373      0.386130  10427.226485  62799.013472\n",
       " 18    30032.824864      0.000000  10427.226485  61204.613528\n",
       " 19    30286.074709      0.000000  10427.226485  58022.091806\n",
       " 20    30367.527730      0.000000  10427.226485  55213.742194\n",
       " 21    29827.037992      0.000000  10427.226485  52935.023556\n",
       " 22    29595.573810      0.000000  10427.226485  49841.434889\n",
       " 23    29385.931274      0.000000  10427.226485  47240.701972}"
      ]
     },
     "execution_count": 3,
     "metadata": {},
     "output_type": "execute_result"
    }
   ],
   "source": [
    "profiles"
   ]
  },
  {
   "cell_type": "code",
   "execution_count": 3,
   "metadata": {},
   "outputs": [],
   "source": [
    "def get_storage_stats(df: pd.DataFrame) -> tuple[pd.DataFrame, pd.DataFrame]:\n",
    "    \"\"\"Get curtailment and energy overshoot given the frame of generation\n",
    "\n",
    "    Args:\n",
    "        df: frame with hourly generation and demand data\n",
    "\n",
    "    Returns:\n",
    "        hourly dataframe with storage statistics; aggregated statistics\n",
    "    \"\"\"\n",
    "    col_gen = [c for c in df.columns if c != \"Demand\"]\n",
    "    df_ = df.assign(\n",
    "        TotalSupply=lambda df: df[col_gen].sum(1),\n",
    "        ExcessSupply=lambda df: (df[\"TotalSupply\"] - df[\"Demand\"]).map(\n",
    "            lambda x: max(x, 0)\n",
    "        ),\n",
    "        ExcessDemand=lambda df: (df[\"Demand\"] - df[\"TotalSupply\"]).map(\n",
    "            lambda x: max(x, 0)\n",
    "        ),\n",
    "    )\n",
    "    total = df_.sum()\n",
    "    stats = {\n",
    "        var: {\n",
    "            \"Total\": total[var],\n",
    "            \"TotalPercentOfDemand\": total[var] / total[\"Demand\"] * 100,\n",
    "            \"Max\": df_[var].max(),\n",
    "            \"Hours\": len(df_[df_[var] > 9]),\n",
    "        }\n",
    "        for var in [\"ExcessSupply\", \"ExcessDemand\"]\n",
    "    }\n",
    "    return df_, pd.DataFrame.from_dict(stats).round(1)\n",
    "\n",
    "df, stats = get_storage_stats(df_norm)\n",
    "stats\n",
    "df_s = df.iloc[:24,:][[\"ExcessSupply\", \"ExcessDemand\"]].copy()\n"
   ]
  },
  {
   "cell_type": "code",
   "execution_count": 4,
   "metadata": {},
   "outputs": [
    {
     "name": "stdout",
     "output_type": "stream",
     "text": [
      "<class 'pandas.core.frame.DataFrame'>\n",
      "DatetimeIndex: 8760 entries, 2023-01-01 00:00:00 to 2023-12-31 23:00:00\n",
      "Data columns (total 7 columns):\n",
      " #   Column        Non-Null Count  Dtype  \n",
      "---  ------        --------------  -----  \n",
      " 0   Wind          8760 non-null   float64\n",
      " 1   Solar         8760 non-null   float64\n",
      " 2   Baseload      8760 non-null   float64\n",
      " 3   Demand        8760 non-null   float64\n",
      " 4   TotalSupply   8760 non-null   float64\n",
      " 5   ExcessSupply  8760 non-null   float64\n",
      " 6   ExcessDemand  8760 non-null   float64\n",
      "dtypes: float64(7)\n",
      "memory usage: 547.5 KB\n"
     ]
    }
   ],
   "source": [
    "df.info()"
   ]
  },
  {
   "cell_type": "code",
   "execution_count": 5,
   "metadata": {},
   "outputs": [
    {
     "name": "stdout",
     "output_type": "stream",
     "text": [
      "<class 'pandas.core.frame.DataFrame'>\n",
      "DatetimeIndex: 8760 entries, 2023-01-01 00:00:00 to 2023-12-31 23:00:00\n",
      "Data columns (total 4 columns):\n",
      " #   Column    Non-Null Count  Dtype  \n",
      "---  ------    --------------  -----  \n",
      " 0   Wind      8760 non-null   float64\n",
      " 1   Solar     8760 non-null   float64\n",
      " 2   Baseload  8760 non-null   float64\n",
      " 3   Demand    8760 non-null   float64\n",
      "dtypes: float64(4)\n",
      "memory usage: 342.2 KB\n"
     ]
    }
   ],
   "source": [
    "df_norm.info()"
   ]
  },
  {
   "cell_type": "code",
   "execution_count": 6,
   "metadata": {},
   "outputs": [],
   "source": [
    "import numpy as np"
   ]
  },
  {
   "cell_type": "code",
   "execution_count": 7,
   "metadata": {},
   "outputs": [
    {
     "data": {
      "text/plain": [
       "array([[1., 1., 1., 1., 1., 1., 1., 1., 1., 1., 1., 1., 1., 1., 1., 1.,\n",
       "        1., 1., 1., 1., 1., 1., 1., 1.]])"
      ]
     },
     "execution_count": 7,
     "metadata": {},
     "output_type": "execute_result"
    }
   ],
   "source": [
    "# objective: simply minimize the sum\n",
    "c = np.ones((1, len(df_s)))\n",
    "\n",
    "# build the constraint matrix\n",
    "df_s\n",
    "c"
   ]
  },
  {
   "cell_type": "code",
   "execution_count": null,
   "metadata": {},
   "outputs": [],
   "source": []
  }
 ],
 "metadata": {
  "kernelspec": {
   "display_name": ".venv",
   "language": "python",
   "name": "python3"
  },
  "language_info": {
   "codemirror_mode": {
    "name": "ipython",
    "version": 3
   },
   "file_extension": ".py",
   "mimetype": "text/x-python",
   "name": "python",
   "nbconvert_exporter": "python",
   "pygments_lexer": "ipython3",
   "version": "3.11.4"
  }
 },
 "nbformat": 4,
 "nbformat_minor": 2
}
