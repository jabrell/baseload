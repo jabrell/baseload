{
 "cells": [
  {
   "cell_type": "code",
   "execution_count": 9,
   "metadata": {},
   "outputs": [],
   "source": [
    "import pandas as pd \n",
    "import plotly.graph_objects as go\n",
    "import sys, os\n",
    "fn_data = \"../data/renewables_with_load.parquet\"\n",
    "from data import get_generation, normalize_generation, get_profiles\n",
    "from graphs import plot_profile"
   ]
  },
  {
   "cell_type": "code",
   "execution_count": 12,
   "metadata": {},
   "outputs": [],
   "source": [
    "def normalize_generation(\n",
    "    df: pd.DataFrame,\n",
    "    shares: dict[str, float],\n",
    "    total_demand: float = 0,\n",
    ") -> pd.DataFrame:\n",
    "    \"\"\"Normalize data to a given value of annual demand. Generation of\n",
    "       renewable generation is scaled to meet the given demand share on an\n",
    "       annual basis. In addition, a baseload technology is added with an\n",
    "       constant annual profile\n",
    "\n",
    "    Args:\n",
    "        df: Dataframe with observed demand and generation data\n",
    "        shares: shares of each technology in annual demand. keys have to match\n",
    "            with columns. Exception is \"Baseload\" that is used to create the\n",
    "            baseload technology with constant profile\n",
    "        total_demand: Total demand over the whole time horizon to normalize demand\n",
    "            If zero, no demand scaling\n",
    "    \"\"\"\n",
    "    if total_demand == 0:\n",
    "        total_demand = df[\"Demand\"].sum()\n",
    "    # normalize data\n",
    "    df_ = (df / df.sum()).assign(Baseload=1 / len(df))\n",
    "    shares.update({\"Demand\": 1})\n",
    "    for tech, fac in shares.items():\n",
    "        df_[tech] = df_[tech] * total_demand * fac\n",
    "    return df_[list(shares.keys())]\n",
    "\n",
    "def get_generation(fn: str, country: str, year: int) -> pd.DataFrame:\n",
    "    \"\"\"Get renewable generation and demand by country and year\n",
    "\n",
    "    Args:\n",
    "        fn: name of parquet file\n",
    "        country: 2-letter country code\n",
    "        year: year for data\n",
    "    \"\"\"\n",
    "    df = (\n",
    "        pd.read_parquet(\n",
    "            fn, \n",
    "            filters=[\n",
    "                (\"country\", \"==\", country),\n",
    "                (\"dateTime\", \">=\", pd.to_datetime(f\"{year}/01/01 00:00\")),\n",
    "                (\"dateTime\", \"<=\", pd.to_datetime(f\"{year}/12/31 23:00\")),            ])\n",
    "        .set_index(\"dateTime\")\n",
    "        .drop(\"country\", axis=1)\n",
    "    )\n",
    "    df.columns = [c[:1].capitalize() + c[1:] for c in df.columns]\n",
    "    df[\"Wind\"] = df[\"WindOffshore\"].fillna(0) + df[\"WindOnshore\"].fillna(0)\n",
    "    return df"
   ]
  },
  {
   "cell_type": "code",
   "execution_count": 17,
   "metadata": {},
   "outputs": [
    {
     "data": {
      "text/html": [
       "<div>\n",
       "<style scoped>\n",
       "    .dataframe tbody tr th:only-of-type {\n",
       "        vertical-align: middle;\n",
       "    }\n",
       "\n",
       "    .dataframe tbody tr th {\n",
       "        vertical-align: top;\n",
       "    }\n",
       "\n",
       "    .dataframe thead th {\n",
       "        text-align: right;\n",
       "    }\n",
       "</style>\n",
       "<table border=\"1\" class=\"dataframe\">\n",
       "  <thead>\n",
       "    <tr style=\"text-align: right;\">\n",
       "      <th></th>\n",
       "      <th>Solar</th>\n",
       "      <th>WindOffshore</th>\n",
       "      <th>WindOnshore</th>\n",
       "      <th>Demand</th>\n",
       "      <th>Wind</th>\n",
       "    </tr>\n",
       "    <tr>\n",
       "      <th>dateTime</th>\n",
       "      <th></th>\n",
       "      <th></th>\n",
       "      <th></th>\n",
       "      <th></th>\n",
       "      <th></th>\n",
       "    </tr>\n",
       "  </thead>\n",
       "  <tbody>\n",
       "    <tr>\n",
       "      <th>2023-01-01</th>\n",
       "      <td>137046.8050</td>\n",
       "      <td>422151.1400</td>\n",
       "      <td>2.437464e+06</td>\n",
       "      <td>4.934200e+06</td>\n",
       "      <td>2.859615e+06</td>\n",
       "    </tr>\n",
       "    <tr>\n",
       "      <th>2023-01-05</th>\n",
       "      <td>123007.8725</td>\n",
       "      <td>487348.3725</td>\n",
       "      <td>2.042660e+06</td>\n",
       "      <td>4.883847e+06</td>\n",
       "      <td>2.530008e+06</td>\n",
       "    </tr>\n",
       "    <tr>\n",
       "      <th>2023-01-09</th>\n",
       "      <td>94382.8425</td>\n",
       "      <td>421744.4000</td>\n",
       "      <td>2.614856e+06</td>\n",
       "      <td>5.783068e+06</td>\n",
       "      <td>3.036600e+06</td>\n",
       "    </tr>\n",
       "    <tr>\n",
       "      <th>2023-01-13</th>\n",
       "      <td>143246.4075</td>\n",
       "      <td>433522.8650</td>\n",
       "      <td>3.266431e+06</td>\n",
       "      <td>5.394583e+06</td>\n",
       "      <td>3.699954e+06</td>\n",
       "    </tr>\n",
       "    <tr>\n",
       "      <th>2023-01-17</th>\n",
       "      <td>155211.6025</td>\n",
       "      <td>355618.5750</td>\n",
       "      <td>1.165248e+06</td>\n",
       "      <td>5.884822e+06</td>\n",
       "      <td>1.520866e+06</td>\n",
       "    </tr>\n",
       "    <tr>\n",
       "      <th>...</th>\n",
       "      <td>...</td>\n",
       "      <td>...</td>\n",
       "      <td>...</td>\n",
       "      <td>...</td>\n",
       "      <td>...</td>\n",
       "    </tr>\n",
       "    <tr>\n",
       "      <th>2023-12-15</th>\n",
       "      <td>181422.7275</td>\n",
       "      <td>411122.4675</td>\n",
       "      <td>2.030749e+06</td>\n",
       "      <td>5.141704e+06</td>\n",
       "      <td>2.441872e+06</td>\n",
       "    </tr>\n",
       "    <tr>\n",
       "      <th>2023-12-19</th>\n",
       "      <td>93560.8600</td>\n",
       "      <td>436520.5950</td>\n",
       "      <td>3.427738e+06</td>\n",
       "      <td>5.451933e+06</td>\n",
       "      <td>3.864258e+06</td>\n",
       "    </tr>\n",
       "    <tr>\n",
       "      <th>2023-12-23</th>\n",
       "      <td>82290.3825</td>\n",
       "      <td>431917.9250</td>\n",
       "      <td>3.114949e+06</td>\n",
       "      <td>4.439456e+06</td>\n",
       "      <td>3.546867e+06</td>\n",
       "    </tr>\n",
       "    <tr>\n",
       "      <th>2023-12-27</th>\n",
       "      <td>167560.8000</td>\n",
       "      <td>488966.9500</td>\n",
       "      <td>2.860188e+06</td>\n",
       "      <td>4.589512e+06</td>\n",
       "      <td>3.349155e+06</td>\n",
       "    </tr>\n",
       "    <tr>\n",
       "      <th>2023-12-31</th>\n",
       "      <td>27249.1625</td>\n",
       "      <td>137915.1450</td>\n",
       "      <td>6.437731e+05</td>\n",
       "      <td>1.030352e+06</td>\n",
       "      <td>7.816882e+05</td>\n",
       "    </tr>\n",
       "  </tbody>\n",
       "</table>\n",
       "<p>92 rows × 5 columns</p>\n",
       "</div>"
      ],
      "text/plain": [
       "                  Solar  WindOffshore   WindOnshore        Demand  \\\n",
       "dateTime                                                            \n",
       "2023-01-01  137046.8050   422151.1400  2.437464e+06  4.934200e+06   \n",
       "2023-01-05  123007.8725   487348.3725  2.042660e+06  4.883847e+06   \n",
       "2023-01-09   94382.8425   421744.4000  2.614856e+06  5.783068e+06   \n",
       "2023-01-13  143246.4075   433522.8650  3.266431e+06  5.394583e+06   \n",
       "2023-01-17  155211.6025   355618.5750  1.165248e+06  5.884822e+06   \n",
       "...                 ...           ...           ...           ...   \n",
       "2023-12-15  181422.7275   411122.4675  2.030749e+06  5.141704e+06   \n",
       "2023-12-19   93560.8600   436520.5950  3.427738e+06  5.451933e+06   \n",
       "2023-12-23   82290.3825   431917.9250  3.114949e+06  4.439456e+06   \n",
       "2023-12-27  167560.8000   488966.9500  2.860188e+06  4.589512e+06   \n",
       "2023-12-31   27249.1625   137915.1450  6.437731e+05  1.030352e+06   \n",
       "\n",
       "                    Wind  \n",
       "dateTime                  \n",
       "2023-01-01  2.859615e+06  \n",
       "2023-01-05  2.530008e+06  \n",
       "2023-01-09  3.036600e+06  \n",
       "2023-01-13  3.699954e+06  \n",
       "2023-01-17  1.520866e+06  \n",
       "...                  ...  \n",
       "2023-12-15  2.441872e+06  \n",
       "2023-12-19  3.864258e+06  \n",
       "2023-12-23  3.546867e+06  \n",
       "2023-12-27  3.349155e+06  \n",
       "2023-12-31  7.816882e+05  \n",
       "\n",
       "[92 rows x 5 columns]"
      ]
     },
     "execution_count": 17,
     "metadata": {},
     "output_type": "execute_result"
    }
   ],
   "source": [
    "def resample_generation(df: pd.DataFrame, days: int = 1) -> pd.DataFrame:\n",
    "    \"\"\"Resample generation data to daily basis using sums\n",
    "    \n",
    "    Args:\n",
    "        df: dataframe to be resampled\n",
    "        days: number of days to aggregate\n",
    "    \"\"\"\n",
    "    return df.resample(f\"{days}D\").sum()\n",
    "resample_generation(df_gen, 4)"
   ]
  },
  {
   "cell_type": "code",
   "execution_count": 14,
   "metadata": {},
   "outputs": [
    {
     "data": {
      "text/html": [
       "<div>\n",
       "<style scoped>\n",
       "    .dataframe tbody tr th:only-of-type {\n",
       "        vertical-align: middle;\n",
       "    }\n",
       "\n",
       "    .dataframe tbody tr th {\n",
       "        vertical-align: top;\n",
       "    }\n",
       "\n",
       "    .dataframe thead th {\n",
       "        text-align: right;\n",
       "    }\n",
       "</style>\n",
       "<table border=\"1\" class=\"dataframe\">\n",
       "  <thead>\n",
       "    <tr style=\"text-align: right;\">\n",
       "      <th></th>\n",
       "      <th>Wind</th>\n",
       "      <th>Solar</th>\n",
       "      <th>Baseload</th>\n",
       "      <th>Demand</th>\n",
       "    </tr>\n",
       "    <tr>\n",
       "      <th>Hour</th>\n",
       "      <th></th>\n",
       "      <th></th>\n",
       "      <th></th>\n",
       "      <th></th>\n",
       "    </tr>\n",
       "  </thead>\n",
       "  <tbody>\n",
       "    <tr>\n",
       "      <th>0</th>\n",
       "      <td>27130.770867</td>\n",
       "      <td>0.000000</td>\n",
       "      <td>20854.452969</td>\n",
       "      <td>41775.432164</td>\n",
       "    </tr>\n",
       "    <tr>\n",
       "      <th>1</th>\n",
       "      <td>26812.641116</td>\n",
       "      <td>0.000000</td>\n",
       "      <td>20854.452969</td>\n",
       "      <td>41421.215432</td>\n",
       "    </tr>\n",
       "    <tr>\n",
       "      <th>2</th>\n",
       "      <td>26532.765564</td>\n",
       "      <td>0.989173</td>\n",
       "      <td>20854.452969</td>\n",
       "      <td>41852.840212</td>\n",
       "    </tr>\n",
       "    <tr>\n",
       "      <th>3</th>\n",
       "      <td>26447.014592</td>\n",
       "      <td>113.194390</td>\n",
       "      <td>20854.452969</td>\n",
       "      <td>43542.830685</td>\n",
       "    </tr>\n",
       "    <tr>\n",
       "      <th>4</th>\n",
       "      <td>26537.470437</td>\n",
       "      <td>1062.964110</td>\n",
       "      <td>20854.452969</td>\n",
       "      <td>47406.574452</td>\n",
       "    </tr>\n",
       "    <tr>\n",
       "      <th>5</th>\n",
       "      <td>26091.946928</td>\n",
       "      <td>3931.576557</td>\n",
       "      <td>20854.452969</td>\n",
       "      <td>51757.933479</td>\n",
       "    </tr>\n",
       "    <tr>\n",
       "      <th>6</th>\n",
       "      <td>25143.304706</td>\n",
       "      <td>9348.831946</td>\n",
       "      <td>20854.452969</td>\n",
       "      <td>55245.846712</td>\n",
       "    </tr>\n",
       "    <tr>\n",
       "      <th>7</th>\n",
       "      <td>24439.121869</td>\n",
       "      <td>16610.326137</td>\n",
       "      <td>20854.452969</td>\n",
       "      <td>57249.540377</td>\n",
       "    </tr>\n",
       "    <tr>\n",
       "      <th>8</th>\n",
       "      <td>24113.018068</td>\n",
       "      <td>24031.232347</td>\n",
       "      <td>20854.452969</td>\n",
       "      <td>58427.058260</td>\n",
       "    </tr>\n",
       "    <tr>\n",
       "      <th>9</th>\n",
       "      <td>24287.274853</td>\n",
       "      <td>29628.505401</td>\n",
       "      <td>20854.452969</td>\n",
       "      <td>59359.867616</td>\n",
       "    </tr>\n",
       "    <tr>\n",
       "      <th>10</th>\n",
       "      <td>24567.144502</td>\n",
       "      <td>32591.050339</td>\n",
       "      <td>20854.452969</td>\n",
       "      <td>59403.832473</td>\n",
       "    </tr>\n",
       "    <tr>\n",
       "      <th>11</th>\n",
       "      <td>24727.068215</td>\n",
       "      <td>32953.068422</td>\n",
       "      <td>20854.452969</td>\n",
       "      <td>58520.157945</td>\n",
       "    </tr>\n",
       "    <tr>\n",
       "      <th>12</th>\n",
       "      <td>24889.142318</td>\n",
       "      <td>30885.373168</td>\n",
       "      <td>20854.452969</td>\n",
       "      <td>57231.267959</td>\n",
       "    </tr>\n",
       "    <tr>\n",
       "      <th>13</th>\n",
       "      <td>25147.575928</td>\n",
       "      <td>26515.420046</td>\n",
       "      <td>20854.452969</td>\n",
       "      <td>56191.563021</td>\n",
       "    </tr>\n",
       "    <tr>\n",
       "      <th>14</th>\n",
       "      <td>25454.806263</td>\n",
       "      <td>20126.240160</td>\n",
       "      <td>20854.452969</td>\n",
       "      <td>55574.874212</td>\n",
       "    </tr>\n",
       "    <tr>\n",
       "      <th>15</th>\n",
       "      <td>25797.782405</td>\n",
       "      <td>12888.058921</td>\n",
       "      <td>20854.452969</td>\n",
       "      <td>55999.163747</td>\n",
       "    </tr>\n",
       "    <tr>\n",
       "      <th>16</th>\n",
       "      <td>26107.769153</td>\n",
       "      <td>6536.250411</td>\n",
       "      <td>20854.452969</td>\n",
       "      <td>57149.011705</td>\n",
       "    </tr>\n",
       "    <tr>\n",
       "      <th>17</th>\n",
       "      <td>26351.987145</td>\n",
       "      <td>2434.500744</td>\n",
       "      <td>20854.452969</td>\n",
       "      <td>57373.606514</td>\n",
       "    </tr>\n",
       "    <tr>\n",
       "      <th>18</th>\n",
       "      <td>26729.315081</td>\n",
       "      <td>566.818555</td>\n",
       "      <td>20854.452969</td>\n",
       "      <td>55884.001082</td>\n",
       "    </tr>\n",
       "    <tr>\n",
       "      <th>19</th>\n",
       "      <td>27453.063049</td>\n",
       "      <td>28.972677</td>\n",
       "      <td>20854.452969</td>\n",
       "      <td>53368.338171</td>\n",
       "    </tr>\n",
       "    <tr>\n",
       "      <th>20</th>\n",
       "      <td>27836.751843</td>\n",
       "      <td>0.061888</td>\n",
       "      <td>20854.452969</td>\n",
       "      <td>50681.163151</td>\n",
       "    </tr>\n",
       "    <tr>\n",
       "      <th>21</th>\n",
       "      <td>27789.976194</td>\n",
       "      <td>0.000238</td>\n",
       "      <td>20854.452969</td>\n",
       "      <td>47774.432377</td>\n",
       "    </tr>\n",
       "    <tr>\n",
       "      <th>22</th>\n",
       "      <td>27714.118712</td>\n",
       "      <td>0.000000</td>\n",
       "      <td>20854.452969</td>\n",
       "      <td>45039.075267</td>\n",
       "    </tr>\n",
       "    <tr>\n",
       "      <th>23</th>\n",
       "      <td>27531.759266</td>\n",
       "      <td>0.000000</td>\n",
       "      <td>20854.452969</td>\n",
       "      <td>43037.551137</td>\n",
       "    </tr>\n",
       "  </tbody>\n",
       "</table>\n",
       "</div>"
      ],
      "text/plain": [
       "              Wind         Solar      Baseload        Demand\n",
       "Hour                                                        \n",
       "0     27130.770867      0.000000  20854.452969  41775.432164\n",
       "1     26812.641116      0.000000  20854.452969  41421.215432\n",
       "2     26532.765564      0.989173  20854.452969  41852.840212\n",
       "3     26447.014592    113.194390  20854.452969  43542.830685\n",
       "4     26537.470437   1062.964110  20854.452969  47406.574452\n",
       "5     26091.946928   3931.576557  20854.452969  51757.933479\n",
       "6     25143.304706   9348.831946  20854.452969  55245.846712\n",
       "7     24439.121869  16610.326137  20854.452969  57249.540377\n",
       "8     24113.018068  24031.232347  20854.452969  58427.058260\n",
       "9     24287.274853  29628.505401  20854.452969  59359.867616\n",
       "10    24567.144502  32591.050339  20854.452969  59403.832473\n",
       "11    24727.068215  32953.068422  20854.452969  58520.157945\n",
       "12    24889.142318  30885.373168  20854.452969  57231.267959\n",
       "13    25147.575928  26515.420046  20854.452969  56191.563021\n",
       "14    25454.806263  20126.240160  20854.452969  55574.874212\n",
       "15    25797.782405  12888.058921  20854.452969  55999.163747\n",
       "16    26107.769153   6536.250411  20854.452969  57149.011705\n",
       "17    26351.987145   2434.500744  20854.452969  57373.606514\n",
       "18    26729.315081    566.818555  20854.452969  55884.001082\n",
       "19    27453.063049     28.972677  20854.452969  53368.338171\n",
       "20    27836.751843      0.061888  20854.452969  50681.163151\n",
       "21    27789.976194      0.000238  20854.452969  47774.432377\n",
       "22    27714.118712      0.000000  20854.452969  45039.075267\n",
       "23    27531.759266      0.000000  20854.452969  43037.551137"
      ]
     },
     "execution_count": 14,
     "metadata": {},
     "output_type": "execute_result"
    }
   ],
   "source": [
    "df_gen = get_generation(fn_data, country=\"DE\", year=2023)\n",
    "df_norm = normalize_generation(df_gen, shares={\"Wind\": 0.5, \"Solar\": 0.2, \"Baseload\": 0.4}, total_demand=0)\n",
    "profiles = get_profiles(df_norm)\n",
    "profiles[\"Hourly: Year\"]"
   ]
  },
  {
   "cell_type": "code",
   "execution_count": 5,
   "metadata": {},
   "outputs": [
    {
     "data": {
      "application/vnd.plotly.v1+json": {
       "config": {
        "plotlyServerURL": "https://plot.ly"
       },
       "data": [
        {
         "line": {
          "color": "Green"
         },
         "mode": "lines",
         "name": "Wind",
         "type": "scatter",
         "x": [
          1,
          2,
          3,
          4,
          5,
          6,
          7,
          8,
          9,
          10,
          11,
          12
         ],
         "y": [
          68670.51251300164,
          50995.825030395165,
          56744.228849530926,
          52394.3308259332,
          45935.941088366075,
          42040.248308331764,
          37074.54124715294,
          42390.11391241675,
          49083.301893336466,
          57122.11556354569,
          55836.20091171797,
          68991.04804475544
         ]
        },
        {
         "line": {
          "color": "Orange"
         },
         "mode": "lines",
         "name": "Solar",
         "type": "scatter",
         "x": [
          1,
          2,
          3,
          4,
          5,
          6,
          7,
          8,
          9,
          10,
          11,
          12
         ],
         "y": [
          71094.09644748572,
          57722.82476771329,
          65719.34866218304,
          68985.19356020784,
          65624.36950347143,
          60347.01935747406,
          57544.41303230572,
          59595.63789558242,
          63040.877000575674,
          66245.52732990684,
          59852.516346837445,
          70732.57319321574
         ]
        },
        {
         "line": {
          "color": "Black"
         },
         "mode": "lines",
         "name": "Baseload",
         "type": "scatter",
         "x": [
          1,
          2,
          3,
          4,
          5,
          6,
          7,
          8,
          9,
          10,
          11,
          12
         ],
         "y": [
          23249.058260958904,
          23249.058260958904,
          23249.058260958904,
          23249.058260958904,
          23249.058260958904,
          23249.058260958904,
          23249.058260958904,
          23249.058260958904,
          23249.058260958904,
          23249.058260958904,
          23249.058260958904,
          23249.058260958904
         ]
        },
        {
         "line": {
          "color": "Red"
         },
         "mode": "lines",
         "name": "Demand",
         "type": "scatter",
         "x": [
          1,
          2,
          3,
          4,
          5,
          6,
          7,
          8,
          9,
          10,
          11,
          12
         ],
         "y": [
          62464.97697244624,
          63892.314691220236,
          61855.161864919355,
          55863.18539930555,
          54498.172002688174,
          55997.20040625,
          55051.03170026882,
          55380.86957325268,
          55847.65985416667,
          57994.22364583333,
          60505.45717708333,
          58541.87929435484
         ]
        }
       ],
       "layout": {
        "legend": {
         "orientation": "h",
         "x": 0.3,
         "xanchor": "left",
         "y": -0.3,
         "yanchor": "bottom"
        },
        "template": {
         "data": {
          "candlestick": [
           {
            "decreasing": {
             "line": {
              "color": "#000033"
             }
            },
            "increasing": {
             "line": {
              "color": "#000032"
             }
            },
            "type": "candlestick"
           }
          ],
          "contour": [
           {
            "colorscale": [
             [
              0,
              "#000011"
             ],
             [
              0.1111111111111111,
              "#000012"
             ],
             [
              0.2222222222222222,
              "#000013"
             ],
             [
              0.3333333333333333,
              "#000014"
             ],
             [
              0.4444444444444444,
              "#000015"
             ],
             [
              0.5555555555555556,
              "#000016"
             ],
             [
              0.6666666666666666,
              "#000017"
             ],
             [
              0.7777777777777778,
              "#000018"
             ],
             [
              0.8888888888888888,
              "#000019"
             ],
             [
              1,
              "#000020"
             ]
            ],
            "type": "contour"
           }
          ],
          "contourcarpet": [
           {
            "colorscale": [
             [
              0,
              "#000011"
             ],
             [
              0.1111111111111111,
              "#000012"
             ],
             [
              0.2222222222222222,
              "#000013"
             ],
             [
              0.3333333333333333,
              "#000014"
             ],
             [
              0.4444444444444444,
              "#000015"
             ],
             [
              0.5555555555555556,
              "#000016"
             ],
             [
              0.6666666666666666,
              "#000017"
             ],
             [
              0.7777777777777778,
              "#000018"
             ],
             [
              0.8888888888888888,
              "#000019"
             ],
             [
              1,
              "#000020"
             ]
            ],
            "type": "contourcarpet"
           }
          ],
          "heatmap": [
           {
            "colorscale": [
             [
              0,
              "#000011"
             ],
             [
              0.1111111111111111,
              "#000012"
             ],
             [
              0.2222222222222222,
              "#000013"
             ],
             [
              0.3333333333333333,
              "#000014"
             ],
             [
              0.4444444444444444,
              "#000015"
             ],
             [
              0.5555555555555556,
              "#000016"
             ],
             [
              0.6666666666666666,
              "#000017"
             ],
             [
              0.7777777777777778,
              "#000018"
             ],
             [
              0.8888888888888888,
              "#000019"
             ],
             [
              1,
              "#000020"
             ]
            ],
            "type": "heatmap"
           }
          ],
          "histogram2d": [
           {
            "colorscale": [
             [
              0,
              "#000011"
             ],
             [
              0.1111111111111111,
              "#000012"
             ],
             [
              0.2222222222222222,
              "#000013"
             ],
             [
              0.3333333333333333,
              "#000014"
             ],
             [
              0.4444444444444444,
              "#000015"
             ],
             [
              0.5555555555555556,
              "#000016"
             ],
             [
              0.6666666666666666,
              "#000017"
             ],
             [
              0.7777777777777778,
              "#000018"
             ],
             [
              0.8888888888888888,
              "#000019"
             ],
             [
              1,
              "#000020"
             ]
            ],
            "type": "histogram2d"
           }
          ],
          "icicle": [
           {
            "textfont": {
             "color": "white"
            },
            "type": "icicle"
           }
          ],
          "sankey": [
           {
            "textfont": {
             "color": "#000036"
            },
            "type": "sankey"
           }
          ],
          "scatter": [
           {
            "marker": {
             "line": {
              "width": 0
             }
            },
            "type": "scatter"
           }
          ],
          "table": [
           {
            "cells": {
             "fill": {
              "color": "#000038"
             },
             "font": {
              "color": "#000037"
             },
             "line": {
              "color": "#000039"
             }
            },
            "header": {
             "fill": {
              "color": "#000040"
             },
             "font": {
              "color": "#000036"
             },
             "line": {
              "color": "#000039"
             }
            },
            "type": "table"
           }
          ],
          "waterfall": [
           {
            "connector": {
             "line": {
              "color": "#000036",
              "width": 2
             }
            },
            "decreasing": {
             "marker": {
              "color": "#000033"
             }
            },
            "increasing": {
             "marker": {
              "color": "#000032"
             }
            },
            "totals": {
             "marker": {
              "color": "#000034"
             }
            },
            "type": "waterfall"
           }
          ]
         },
         "layout": {
          "coloraxis": {
           "colorscale": [
            [
             0,
             "#000011"
            ],
            [
             0.1111111111111111,
             "#000012"
            ],
            [
             0.2222222222222222,
             "#000013"
            ],
            [
             0.3333333333333333,
             "#000014"
            ],
            [
             0.4444444444444444,
             "#000015"
            ],
            [
             0.5555555555555556,
             "#000016"
            ],
            [
             0.6666666666666666,
             "#000017"
            ],
            [
             0.7777777777777778,
             "#000018"
            ],
            [
             0.8888888888888888,
             "#000019"
            ],
            [
             1,
             "#000020"
            ]
           ]
          },
          "colorscale": {
           "diverging": [
            [
             0,
             "#000021"
            ],
            [
             0.1,
             "#000022"
            ],
            [
             0.2,
             "#000023"
            ],
            [
             0.3,
             "#000024"
            ],
            [
             0.4,
             "#000025"
            ],
            [
             0.5,
             "#000026"
            ],
            [
             0.6,
             "#000027"
            ],
            [
             0.7,
             "#000028"
            ],
            [
             0.8,
             "#000029"
            ],
            [
             0.9,
             "#000030"
            ],
            [
             1,
             "#000031"
            ]
           ],
           "sequential": [
            [
             0,
             "#000011"
            ],
            [
             0.1111111111111111,
             "#000012"
            ],
            [
             0.2222222222222222,
             "#000013"
            ],
            [
             0.3333333333333333,
             "#000014"
            ],
            [
             0.4444444444444444,
             "#000015"
            ],
            [
             0.5555555555555556,
             "#000016"
            ],
            [
             0.6666666666666666,
             "#000017"
            ],
            [
             0.7777777777777778,
             "#000018"
            ],
            [
             0.8888888888888888,
             "#000019"
            ],
            [
             1,
             "#000020"
            ]
           ],
           "sequentialminus": [
            [
             0,
             "#000011"
            ],
            [
             0.1111111111111111,
             "#000012"
            ],
            [
             0.2222222222222222,
             "#000013"
            ],
            [
             0.3333333333333333,
             "#000014"
            ],
            [
             0.4444444444444444,
             "#000015"
            ],
            [
             0.5555555555555556,
             "#000016"
            ],
            [
             0.6666666666666666,
             "#000017"
            ],
            [
             0.7777777777777778,
             "#000018"
            ],
            [
             0.8888888888888888,
             "#000019"
            ],
            [
             1,
             "#000020"
            ]
           ]
          },
          "colorway": [
           "#000001",
           "#000002",
           "#000003",
           "#000004",
           "#000005",
           "#000006",
           "#000007",
           "#000008",
           "#000009",
           "#000010"
          ]
         }
        },
        "title": {
         "text": "Monthly",
         "x": 0.4,
         "xanchor": "center",
         "yanchor": "top"
        },
        "xaxis": {
         "title": {
          "text": "Month"
         }
        },
        "yaxis": {
         "title": {
          "text": "Energy"
         }
        }
       }
      }
     },
     "metadata": {},
     "output_type": "display_data"
    }
   ],
   "source": [
    "def plot_profile(\n",
    "        df_p: pd.DataFrame, \n",
    "        title: str = \"\", \n",
    "        tech_order: list[str] | None = None, \n",
    "        colors: dict[str, str] | None = None\n",
    "    ):\n",
    "    \"\"\"Plot profiles\n",
    "    \n",
    "    Args:\n",
    "        df_p: dataframe with profiles in columns and x-axis as index\n",
    "        title: title for the plot\n",
    "        tech_order: order of technologies for stapling. If none, technologies are\n",
    "            not stapled\n",
    "        colors: color setting for profiles\n",
    "    \"\"\"\n",
    "    # set default arguments\n",
    "    tech_order = [\"Baseload\", \"Wind\", \"Solar\"] if tech_order is None else tech_order\n",
    "    colors = {\n",
    "        \"Demand\": \"Red\",\n",
    "        \"Wind\": \"Green\",\n",
    "        \"Solar\": \"Orange\",\n",
    "        \"Baseload\": \"Black\"\n",
    "    } if colors is None else colors\n",
    "\n",
    "    # staple the profiles\n",
    "    if tech_order is not None:\n",
    "        base = pd.Series(0, index=df_p.index)\n",
    "        for t in tech_order:\n",
    "            if t in df_p.columns:\n",
    "                base += df_p[t]\n",
    "                df_p[t] = base\n",
    "    # create figure\n",
    "    fig = go.Figure()\n",
    "    for c in df_p.columns:\n",
    "        fig.add_trace(\n",
    "            go.Scatter(x=df_p.index, y=df_p[c], mode=\"lines\", line=dict(color=colors[c]), name=c)\n",
    "        )\n",
    "        fig.update_layout(\n",
    "            legend=dict(\n",
    "                yanchor=\"bottom\",\n",
    "                y=-0.3,\n",
    "                xanchor=\"left\",\n",
    "                x=0.3,\n",
    "                orientation=\"h\"),\n",
    "            yaxis=dict(title=\"Energy\"),\n",
    "            xaxis=dict(title=df_p.index.name),\n",
    "            title=dict(text=title, xanchor=\"center\", yanchor=\"top\", x=0.4)\n",
    "\n",
    "    )\n",
    "    return fig\n",
    "p = \"Monthly\"\n",
    "fig = plot_profile(profiles[p], title=p)\n",
    "fig.show()\n"
   ]
  },
  {
   "cell_type": "code",
   "execution_count": 6,
   "metadata": {},
   "outputs": [
    {
     "ename": "SyntaxError",
     "evalue": "invalid syntax (613620620.py, line 1)",
     "output_type": "error",
     "traceback": [
      "\u001b[1;36m  Cell \u001b[1;32mIn[6], line 1\u001b[1;36m\u001b[0m\n\u001b[1;33m    df_gen.\u001b[0m\n\u001b[1;37m           ^\u001b[0m\n\u001b[1;31mSyntaxError\u001b[0m\u001b[1;31m:\u001b[0m invalid syntax\n"
     ]
    }
   ],
   "source": [
    "df_gen."
   ]
  },
  {
   "cell_type": "code",
   "execution_count": null,
   "metadata": {},
   "outputs": [],
   "source": []
  }
 ],
 "metadata": {
  "kernelspec": {
   "display_name": ".venv",
   "language": "python",
   "name": "python3"
  },
  "language_info": {
   "codemirror_mode": {
    "name": "ipython",
    "version": 3
   },
   "file_extension": ".py",
   "mimetype": "text/x-python",
   "name": "python",
   "nbconvert_exporter": "python",
   "pygments_lexer": "ipython3",
   "version": "3.11.5"
  }
 },
 "nbformat": 4,
 "nbformat_minor": 2
}
