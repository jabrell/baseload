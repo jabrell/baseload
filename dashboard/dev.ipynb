{
 "cells": [
  {
   "cell_type": "code",
   "execution_count": null,
   "metadata": {},
   "outputs": [],
   "source": [
    "import pandas as pd \n",
    "import plotly.graph_objects as go\n",
    "import plotly.express as px\n",
    "import sys, os\n",
    "fn_data = \"../data/renewables_with_load.parquet\"\n",
    "from data import get_generation, normalize_generation, get_profiles\n",
    "from graphs import plot_profile, plot_daily_generation"
   ]
  },
  {
   "cell_type": "code",
   "execution_count": 18,
   "metadata": {},
   "outputs": [],
   "source": [
    "df_gen = get_generation(fn_data, country=\"DE\", year=2023)\n",
    "df_norm = normalize_generation(df_gen, shares={\"Wind\": 0.4, \"Solar\": 0.4, \"Baseload\": 0.2}, total_demand=0)\n",
    "profiles = get_profiles(df_norm)"
   ]
  },
  {
   "cell_type": "code",
   "execution_count": 42,
   "metadata": {},
   "outputs": [
    {
     "data": {
      "text/html": [
       "<div>\n",
       "<style scoped>\n",
       "    .dataframe tbody tr th:only-of-type {\n",
       "        vertical-align: middle;\n",
       "    }\n",
       "\n",
       "    .dataframe tbody tr th {\n",
       "        vertical-align: top;\n",
       "    }\n",
       "\n",
       "    .dataframe thead th {\n",
       "        text-align: right;\n",
       "    }\n",
       "</style>\n",
       "<table border=\"1\" class=\"dataframe\">\n",
       "  <thead>\n",
       "    <tr style=\"text-align: right;\">\n",
       "      <th></th>\n",
       "      <th>Curtailment</th>\n",
       "      <th>LostLoad</th>\n",
       "    </tr>\n",
       "  </thead>\n",
       "  <tbody>\n",
       "    <tr>\n",
       "      <th>Total</th>\n",
       "      <td>102985351.2</td>\n",
       "      <td>102985351.2</td>\n",
       "    </tr>\n",
       "    <tr>\n",
       "      <th>TotalPercentOfDemand</th>\n",
       "      <td>22.5</td>\n",
       "      <td>22.5</td>\n",
       "    </tr>\n",
       "    <tr>\n",
       "      <th>Max</th>\n",
       "      <td>104309.3</td>\n",
       "      <td>55468.4</td>\n",
       "    </tr>\n",
       "    <tr>\n",
       "      <th>Hours</th>\n",
       "      <td>3542.0</td>\n",
       "      <td>5215.0</td>\n",
       "    </tr>\n",
       "  </tbody>\n",
       "</table>\n",
       "</div>"
      ],
      "text/plain": [
       "                      Curtailment     LostLoad\n",
       "Total                 102985351.2  102985351.2\n",
       "TotalPercentOfDemand         22.5         22.5\n",
       "Max                      104309.3      55468.4\n",
       "Hours                      3542.0       5215.0"
      ]
     },
     "execution_count": 42,
     "metadata": {},
     "output_type": "execute_result"
    }
   ],
   "source": [
    "def get_storage_stats(df:pd.DataFrame) -> (pd.DataFrame, pd.DataFrame):\n",
    "    \"\"\"Get curtailment and energy overshoot given the frame of generation\n",
    "    \n",
    "    Args:\n",
    "        df: frame with hourly generation and demand data\n",
    "\n",
    "    Returns:\n",
    "        hourly dataframe with storage statistics; aggregated statistics\n",
    "    \"\"\"\n",
    "    col_gen = [c for c in df.columns if c != \"Demand\"]\n",
    "    df_ = df.assign(\n",
    "        TotalSupply=lambda df: df[col_gen].sum(1),\n",
    "        ExcessSupply=lambda df: df[\"TotalSupply\"] - df[\"Demand\"],\n",
    "        Curtailment=lambda df: (df[\"ExcessSupply\"] > 0).astype(\"int\")*df[\"ExcessSupply\"],\n",
    "        LostLoad=lambda df: (-1)*(df[\"ExcessSupply\"] < 0).astype(\"int\")*df[\"ExcessSupply\"],\n",
    "    )\n",
    "    total = df_.sum()\n",
    "    stats = {\n",
    "        var: {\n",
    "            \"Total\": total[var],\n",
    "            \"TotalPercentOfDemand\": total[var]/total[\"Demand\"]*100,\n",
    "            \"Max\": df_[var].max(),\n",
    "            #\"MaxPercent\": df_.loc[df_[var].idxmax(), var]/df_.loc[df_[var].idxmax(), \"Demand\"]*100,\n",
    "            \"Hours\": len(df_[df_[var] > 9])\n",
    "        }\n",
    "        for var in [\"Curtailment\", \"LostLoad\"]\n",
    "    }\n",
    "    return df_, pd.DataFrame.from_dict(stats).round(1)\n",
    "df, stats = get_storage_stats(df_norm)\n",
    "stats\n"
   ]
  },
  {
   "cell_type": "code",
   "execution_count": null,
   "metadata": {},
   "outputs": [],
   "source": []
  },
  {
   "cell_type": "code",
   "execution_count": null,
   "metadata": {},
   "outputs": [],
   "source": []
  }
 ],
 "metadata": {
  "kernelspec": {
   "display_name": ".venv",
   "language": "python",
   "name": "python3"
  },
  "language_info": {
   "codemirror_mode": {
    "name": "ipython",
    "version": 3
   },
   "file_extension": ".py",
   "mimetype": "text/x-python",
   "name": "python",
   "nbconvert_exporter": "python",
   "pygments_lexer": "ipython3",
   "version": "3.11.4"
  }
 },
 "nbformat": 4,
 "nbformat_minor": 2
}
