{
 "cells": [
  {
   "cell_type": "code",
   "execution_count": 1,
   "metadata": {},
   "outputs": [
    {
     "name": "stderr",
     "output_type": "stream",
     "text": [
      "2024-02-12 16:11:29.880 WARNING streamlit.runtime.caching.cache_data_api: No runtime found, using MemoryCacheStorageManager\n",
      "2024-02-12 16:11:29.881 WARNING streamlit.runtime.caching.cache_data_api: No runtime found, using MemoryCacheStorageManager\n",
      "2024-02-12 16:11:29.882 WARNING streamlit.runtime.caching.cache_data_api: No runtime found, using MemoryCacheStorageManager\n",
      "2024-02-12 16:11:29.882 WARNING streamlit.runtime.caching.cache_data_api: No runtime found, using MemoryCacheStorageManager\n",
      "2024-02-12 16:11:29.883 WARNING streamlit.runtime.caching.cache_data_api: No runtime found, using MemoryCacheStorageManager\n",
      "2024-02-12 16:11:29.884 WARNING streamlit.runtime.caching.cache_data_api: No runtime found, using MemoryCacheStorageManager\n"
     ]
    }
   ],
   "source": [
    "import pandas as pd \n",
    "import plotly.graph_objects as go\n",
    "import plotly.express as px\n",
    "import sys, os\n",
    "fn_data = \"../data/renewables_with_load.parquet\"\n",
    "fn_cap = \"../data/renewables_capacity.parquet\"\n",
    "from data import get_generation, normalize_generation, get_profiles\n",
    "from graphs import plot_profile, plot_daily_generation"
   ]
  },
  {
   "cell_type": "code",
   "execution_count": 2,
   "metadata": {},
   "outputs": [
    {
     "name": "stderr",
     "output_type": "stream",
     "text": [
      "2024-02-12 16:11:30.801 \n",
      "  \u001b[33m\u001b[1mWarning:\u001b[0m to view this Streamlit app on a browser, run it with the following\n",
      "  command:\n",
      "\n",
      "    streamlit run /Users/jan/git/baseload/venv/lib/python3.11/site-packages/ipykernel_launcher.py [ARGUMENTS]\n",
      "2024-02-12 16:11:30.802 No runtime found, using MemoryCacheStorageManager\n",
      "2024-02-12 16:11:30.857 No runtime found, using MemoryCacheStorageManager\n",
      "2024-02-12 16:11:30.860 No runtime found, using MemoryCacheStorageManager\n"
     ]
    }
   ],
   "source": [
    "df_gen, df_annual = get_generation(fn_data, fn_cap, country=\"DE\", year=2023)\n",
    "df_norm = normalize_generation(df_gen, shares={\"Wind\": 0.4, \"Solar\": 0.4, \"Baseload\": 0.2}, total_demand=0)\n",
    "profiles = get_profiles(df_norm)"
   ]
  },
  {
   "cell_type": "code",
   "execution_count": 23,
   "metadata": {},
   "outputs": [
    {
     "data": {
      "text/html": [
       "<div>\n",
       "<style scoped>\n",
       "    .dataframe tbody tr th:only-of-type {\n",
       "        vertical-align: middle;\n",
       "    }\n",
       "\n",
       "    .dataframe tbody tr th {\n",
       "        vertical-align: top;\n",
       "    }\n",
       "\n",
       "    .dataframe thead th {\n",
       "        text-align: right;\n",
       "    }\n",
       "</style>\n",
       "<table border=\"1\" class=\"dataframe\">\n",
       "  <thead>\n",
       "    <tr style=\"text-align: right;\">\n",
       "      <th></th>\n",
       "      <th>Wind</th>\n",
       "      <th>Solar</th>\n",
       "    </tr>\n",
       "  </thead>\n",
       "  <tbody>\n",
       "    <tr>\n",
       "      <th>Capacity</th>\n",
       "      <td>84.377078</td>\n",
       "      <td>208.578191</td>\n",
       "    </tr>\n",
       "  </tbody>\n",
       "</table>\n",
       "</div>"
      ],
      "text/plain": [
       "               Wind       Solar\n",
       "Capacity  84.377078  208.578191"
      ]
     },
     "execution_count": 23,
     "metadata": {},
     "output_type": "execute_result"
    }
   ],
   "source": [
    "\n",
    "\n"
   ]
  },
  {
   "cell_type": "code",
   "execution_count": 18,
   "metadata": {},
   "outputs": [
    {
     "data": {
      "text/plain": [
       "Solar            875.858628\n",
       "WindOffshore    2893.486719\n",
       "WindOnshore     2062.290686\n",
       "Wind            2165.102337\n",
       "Demand                  NaN\n",
       "Name: Fullload Hours, dtype: float64"
      ]
     },
     "execution_count": 18,
     "metadata": {},
     "output_type": "execute_result"
    }
   ],
   "source": [
    "df_annual[\"Fullload Hours\"]"
   ]
  },
  {
   "cell_type": "code",
   "execution_count": 3,
   "metadata": {},
   "outputs": [],
   "source": [
    "def get_storage_stats(df: pd.DataFrame) -> tuple[pd.DataFrame, pd.DataFrame]:\n",
    "    \"\"\"Get curtailment and energy overshoot given the frame of generation\n",
    "\n",
    "    Args:\n",
    "        df: frame with hourly generation and demand data\n",
    "\n",
    "    Returns:\n",
    "        hourly dataframe with storage statistics; aggregated statistics\n",
    "    \"\"\"\n",
    "    col_gen = [c for c in df.columns if c != \"Demand\"]\n",
    "    df_ = df.assign(\n",
    "        TotalSupply=lambda df: df[col_gen].sum(1),\n",
    "        ExcessSupply=lambda df: (df[\"TotalSupply\"] - df[\"Demand\"]).map(\n",
    "            lambda x: max(x, 0)\n",
    "        ),\n",
    "        ExcessDemand=lambda df: (df[\"Demand\"] - df[\"TotalSupply\"]).map(\n",
    "            lambda x: max(x, 0)\n",
    "        ),\n",
    "    )\n",
    "    total = df_.sum()\n",
    "    stats = {\n",
    "        var: {\n",
    "            \"Total\": total[var],\n",
    "            \"TotalPercentOfDemand\": total[var] / total[\"Demand\"] * 100,\n",
    "            \"Max\": df_[var].max(),\n",
    "            \"Hours\": len(df_[df_[var] > 9]),\n",
    "        }\n",
    "        for var in [\"ExcessSupply\", \"ExcessDemand\"]\n",
    "    }\n",
    "    return df_, pd.DataFrame.from_dict(stats).round(1)\n",
    "\n",
    "df, stats = get_storage_stats(df_norm)\n",
    "stats\n",
    "df_s = df.iloc[:24,:][[\"ExcessSupply\", \"ExcessDemand\"]].copy()\n"
   ]
  },
  {
   "cell_type": "code",
   "execution_count": 4,
   "metadata": {},
   "outputs": [
    {
     "name": "stdout",
     "output_type": "stream",
     "text": [
      "<class 'pandas.core.frame.DataFrame'>\n",
      "DatetimeIndex: 8760 entries, 2023-01-01 00:00:00 to 2023-12-31 23:00:00\n",
      "Data columns (total 7 columns):\n",
      " #   Column        Non-Null Count  Dtype  \n",
      "---  ------        --------------  -----  \n",
      " 0   Wind          8760 non-null   float64\n",
      " 1   Solar         8760 non-null   float64\n",
      " 2   Baseload      8760 non-null   float64\n",
      " 3   Demand        8760 non-null   float64\n",
      " 4   TotalSupply   8760 non-null   float64\n",
      " 5   ExcessSupply  8760 non-null   float64\n",
      " 6   ExcessDemand  8760 non-null   float64\n",
      "dtypes: float64(7)\n",
      "memory usage: 547.5 KB\n"
     ]
    }
   ],
   "source": [
    "df.info()"
   ]
  },
  {
   "cell_type": "code",
   "execution_count": 5,
   "metadata": {},
   "outputs": [
    {
     "name": "stdout",
     "output_type": "stream",
     "text": [
      "<class 'pandas.core.frame.DataFrame'>\n",
      "DatetimeIndex: 8760 entries, 2023-01-01 00:00:00 to 2023-12-31 23:00:00\n",
      "Data columns (total 4 columns):\n",
      " #   Column    Non-Null Count  Dtype  \n",
      "---  ------    --------------  -----  \n",
      " 0   Wind      8760 non-null   float64\n",
      " 1   Solar     8760 non-null   float64\n",
      " 2   Baseload  8760 non-null   float64\n",
      " 3   Demand    8760 non-null   float64\n",
      "dtypes: float64(4)\n",
      "memory usage: 342.2 KB\n"
     ]
    }
   ],
   "source": [
    "df_norm.info()"
   ]
  },
  {
   "cell_type": "code",
   "execution_count": 6,
   "metadata": {},
   "outputs": [],
   "source": [
    "import numpy as np"
   ]
  },
  {
   "cell_type": "code",
   "execution_count": 7,
   "metadata": {},
   "outputs": [
    {
     "data": {
      "text/plain": [
       "array([[1., 1., 1., 1., 1., 1., 1., 1., 1., 1., 1., 1., 1., 1., 1., 1.,\n",
       "        1., 1., 1., 1., 1., 1., 1., 1.]])"
      ]
     },
     "execution_count": 7,
     "metadata": {},
     "output_type": "execute_result"
    }
   ],
   "source": [
    "# objective: simply minimize the sum\n",
    "c = np.ones((1, len(df_s)))\n",
    "\n",
    "# build the constraint matrix\n",
    "df_s\n",
    "c"
   ]
  },
  {
   "cell_type": "code",
   "execution_count": null,
   "metadata": {},
   "outputs": [],
   "source": []
  }
 ],
 "metadata": {
  "kernelspec": {
   "display_name": ".venv",
   "language": "python",
   "name": "python3"
  },
  "language_info": {
   "codemirror_mode": {
    "name": "ipython",
    "version": 3
   },
   "file_extension": ".py",
   "mimetype": "text/x-python",
   "name": "python",
   "nbconvert_exporter": "python",
   "pygments_lexer": "ipython3",
   "version": "3.11.4"
  }
 },
 "nbformat": 4,
 "nbformat_minor": 2
}
